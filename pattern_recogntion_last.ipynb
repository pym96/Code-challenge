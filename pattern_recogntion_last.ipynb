{
 "cells": [
  {
   "cell_type": "code",
   "execution_count": 6,
   "id": "33b91c99",
   "metadata": {},
   "outputs": [],
   "source": [
    "import torch\n",
    "import torchvision\n",
    "from sklearn.decomposition import PCA, KernelPCA\n",
    "from sklearn.manifold import MDS, LocallyLinearEmbedding, Isomap\n",
    "from sklearn.svm import SVC\n",
    "from sklearn.tree import DecisionTreeClassifier\n",
    "from sklearn.model_selection import train_test_split\n",
    "from sklearn.metrics import accuracy_score\n",
    "import numpy as np\n"
   ]
  },
  {
   "cell_type": "code",
   "execution_count": 7,
   "id": "a5e249f1",
   "metadata": {},
   "outputs": [],
   "source": [
    "# 加载MNIST数据集\n",
    "transform = torchvision.transforms.Compose([torchvision.transforms.ToTensor()])\n",
    "mnist_data = torchvision.datasets.MNIST(root='./data', train=True, download=True, transform=transform)\n",
    "\n",
    "# 将数据转换为NumPy数组，并进行采样\n",
    "data = mnist_data.data.numpy().reshape(len(mnist_data), -1)\n",
    "labels = mnist_data.targets.numpy()\n",
    "\n",
    "# 数据采样\n",
    "sample_size = 5000  # 减少样本数量\n",
    "indices = np.random.choice(len(data), sample_size, replace=False)\n",
    "sampled_data = data[indices]\n",
    "sampled_labels = labels[indices]\n"
   ]
  },
  {
   "cell_type": "code",
   "execution_count": 3,
   "id": "c2ced0eb",
   "metadata": {},
   "outputs": [],
   "source": [
    "def reduce_dimensions(method, data, n_components=20):  # 减少目标维数\n",
    "    if method == 'PCA':\n",
    "        model = PCA(n_components=n_components)\n",
    "    elif method == 'KPCA':\n",
    "        model = KernelPCA(n_components=n_components, kernel='rbf')\n",
    "    elif method == 'MDS':\n",
    "        model = MDS(n_components=n_components)\n",
    "    elif method == 'LLE':\n",
    "        model = LocallyLinearEmbedding(n_components=n_components)\n",
    "    elif method == 'ISOMAP':\n",
    "        model = Isomap(n_components=n_components)\n",
    "    else:\n",
    "        raise ValueError('Invalid dimensionality reduction method')\n",
    "    return model.fit_transform(data)\n",
    "\n",
    "def classify_and_evaluate(classifier, train_data, train_labels, test_data, test_labels):\n",
    "    classifier.fit(train_data, train_labels)\n",
    "    predictions = classifier.predict(test_data)\n",
    "    return accuracy_score(test_labels, predictions)\n"
   ]
  },
  {
   "cell_type": "code",
   "execution_count": 8,
   "id": "8cec29dc",
   "metadata": {},
   "outputs": [
    {
     "name": "stderr",
     "output_type": "stream",
     "text": [
      "C:\\Users\\pym66\\AppData\\Local\\Packages\\PythonSoftwareFoundation.Python.3.10_qbz5n2kfra8p0\\LocalCache\\local-packages\\Python310\\site-packages\\sklearn\\manifold\\_mds.py:299: FutureWarning: The default value of `normalized_stress` will change to `'auto'` in version 1.4. To suppress this warning, manually set the value of `normalized_stress`.\n",
      "  warnings.warn(\n"
     ]
    },
    {
     "name": "stdout",
     "output_type": "stream",
     "text": [
      "PCA_SVC: 0.962\n",
      "PCA_DecisionTreeClassifier: 0.74\n",
      "KPCA_SVC: 0.118\n",
      "KPCA_DecisionTreeClassifier: 0.092\n",
      "MDS_SVC: 0.497\n",
      "MDS_DecisionTreeClassifier: 0.357\n",
      "LLE_SVC: 0.736\n",
      "LLE_DecisionTreeClassifier: 0.736\n",
      "ISOMAP_SVC: 0.546\n",
      "ISOMAP_DecisionTreeClassifier: 0.439\n"
     ]
    }
   ],
   "source": [
    "methods = ['PCA', 'KPCA', 'MDS', 'LLE', 'ISOMAP']\n",
    "classifiers = [SVC(), DecisionTreeClassifier()]\n",
    "results = {}\n",
    "\n",
    "for method in methods:\n",
    "    # 降维\n",
    "    reduced_data = reduce_dimensions(method, sampled_data)\n",
    "    # 划分数据集\n",
    "    X_train, X_test, y_train, y_test = train_test_split(reduced_data, sampled_labels, test_size=0.2)\n",
    "    \n",
    "    for classifier in classifiers:\n",
    "        key = f'{method}_{type(classifier).__name__}'\n",
    "        # 分类和评估\n",
    "        accuracy = classify_and_evaluate(classifier, X_train, y_train, X_test, y_test)\n",
    "        results[key] = accuracy\n",
    "\n",
    "# 打印结果\n",
    "for key, value in results.items():\n",
    "    print(f'{key}: {value}')\n"
   ]
  },
  {
   "cell_type": "code",
   "execution_count": null,
   "id": "9bb0285b",
   "metadata": {},
   "outputs": [],
   "source": []
  },
  {
   "cell_type": "code",
   "execution_count": null,
   "id": "f3a16ba0",
   "metadata": {},
   "outputs": [],
   "source": []
  },
  {
   "cell_type": "code",
   "execution_count": null,
   "id": "d6b2adb0",
   "metadata": {},
   "outputs": [],
   "source": []
  }
 ],
 "metadata": {
  "kernelspec": {
   "display_name": "Python 3 (ipykernel)",
   "language": "python",
   "name": "python3"
  },
  "language_info": {
   "codemirror_mode": {
    "name": "ipython",
    "version": 3
   },
   "file_extension": ".py",
   "mimetype": "text/x-python",
   "name": "python",
   "nbconvert_exporter": "python",
   "pygments_lexer": "ipython3",
   "version": "3.10.11"
  }
 },
 "nbformat": 4,
 "nbformat_minor": 5
}
