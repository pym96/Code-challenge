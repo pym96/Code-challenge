{
 "cells": [
  {
   "cell_type": "code",
   "execution_count": 1,
   "id": "bea440c5",
   "metadata": {},
   "outputs": [],
   "source": [
    "import torch\n",
    "import torch.nn as nn\n",
    "import torch.optim as optim\n",
    "from torchtext.datasets import IMDB\n",
    "from torchtext.data.utils import get_tokenizer\n",
    "from torchtext.vocab import build_vocab_from_iterator\n",
    "from torch.utils.data import DataLoader, Dataset\n",
    "import matplotlib.pyplot as plt"
   ]
  },
  {
   "cell_type": "markdown",
   "id": "9b0bfab4",
   "metadata": {},
   "source": [
    "# Set random seed for parallel computation"
   ]
  },
  {
   "cell_type": "code",
   "execution_count": 2,
   "id": "7e918c8e",
   "metadata": {},
   "outputs": [],
   "source": [
    "# 设置随机种子\n",
    "SEED = 123\n",
    "torch.manual_seed(SEED)\n",
    "torch.backends.cudnn.deterministic = True"
   ]
  },
  {
   "cell_type": "markdown",
   "id": "991030c1",
   "metadata": {},
   "source": [
    "# Set words divider and words maker function"
   ]
  },
  {
   "cell_type": "code",
   "execution_count": 3,
   "id": "5b6e9c71",
   "metadata": {
    "scrolled": false
   },
   "outputs": [],
   "source": [
    "# 定义分词器和词汇表构建函数\n",
    "tokenizer = get_tokenizer('basic_english')\n",
    "def yield_tokens(data_iter):\n",
    "    for _, text in data_iter:\n",
    "        yield tokenizer(text)\n"
   ]
  },
  {
   "cell_type": "code",
   "execution_count": 4,
   "id": "88a89267",
   "metadata": {},
   "outputs": [],
   "source": [
    "# 加载数据集\n",
    "train_iter, test_iter = IMDB(split=('train', 'test'))\n",
    "\n",
    "# 构建词汇表\n",
    "vocab = build_vocab_from_iterator(yield_tokens(train_iter), specials=[\"<unk>\"])\n",
    "vocab.set_default_index(vocab[\"<unk>\"])\n",
    "\n",
    "# 文本和标签处理函数\n",
    "text_pipeline = lambda x: vocab(tokenizer(x))\n",
    "label_pipeline = lambda x: 1 if x == 'pos' else 0"
   ]
  },
  {
   "cell_type": "code",
   "execution_count": 5,
   "id": "43e97c20",
   "metadata": {},
   "outputs": [
    {
     "data": {
      "text/plain": [
       "(1,\n",
       " 'I rented I AM CURIOUS-YELLOW from my video store because of all the controversy that surrounded it when it was first released in 1967. I also heard that at first it was seized by U.S. customs if it ever tried to enter this country, therefore being a fan of films considered \"controversial\" I really had to see this for myself.<br /><br />The plot is centered around a young Swedish drama student named Lena who wants to learn everything she can about life. In particular she wants to focus her attentions to making some sort of documentary on what the average Swede thought about certain political issues such as the Vietnam War and race issues in the United States. In between asking politicians and ordinary denizens of Stockholm about their opinions on politics, she has sex with her drama teacher, classmates, and married men.<br /><br />What kills me about I AM CURIOUS-YELLOW is that 40 years ago, this was considered pornographic. Really, the sex and nudity scenes are few and far between, even then it\\'s not shot like some cheaply made porno. While my countrymen mind find it shocking, in reality sex and nudity are a major staple in Swedish cinema. Even Ingmar Bergman, arguably their answer to good old boy John Ford, had sex scenes in his films.<br /><br />I do commend the filmmakers for the fact that any sex shown in the film is shown for artistic purposes rather than just to shock people and make money to be shown in pornographic theaters in America. I AM CURIOUS-YELLOW is a good film for anyone wanting to study the meat and potatoes (no pun intended) of Swedish cinema. But really, this film doesn\\'t have much of a plot.')"
      ]
     },
     "execution_count": 5,
     "metadata": {},
     "output_type": "execute_result"
    }
   ],
   "source": [
    "list(train_iter)[0]"
   ]
  },
  {
   "cell_type": "code",
   "execution_count": 6,
   "id": "a524128c",
   "metadata": {},
   "outputs": [],
   "source": [
    "# 数据加载器\n",
    "def collate_batch(batch):\n",
    "    label_list, text_list, lengths = [], [], []\n",
    "    for (_label, _text) in batch:\n",
    "         label_list.append(label_pipeline(_label))\n",
    "         processed_text = torch.tensor(text_pipeline(_text), dtype=torch.int64)\n",
    "         text_list.append(processed_text)\n",
    "         lengths.append(processed_text.size(0))\n",
    "    label_list = torch.tensor(label_list, dtype=torch.float)\n",
    "    text_list = nn.utils.rnn.pad_sequence(text_list, batch_first=True)\n",
    "    lengths = torch.tensor(lengths, dtype=torch.int64)\n",
    "    return label_list, text_list, lengths\n"
   ]
  },
  {
   "cell_type": "code",
   "execution_count": 7,
   "id": "f509ee4c",
   "metadata": {},
   "outputs": [],
   "source": [
    "# Custom dataset class\n",
    "class CustomIMDBDataset(Dataset):\n",
    "    def __init__(self, data_iter):\n",
    "        self.data = list(data_iter)\n",
    "\n",
    "    def __len__(self):\n",
    "        return len(self.data)\n",
    "\n",
    "    def __getitem__(self, idx):\n",
    "        label, text = self.data[idx]\n",
    "        return label, text"
   ]
  },
  {
   "cell_type": "code",
   "execution_count": 8,
   "id": "7ea010a9",
   "metadata": {},
   "outputs": [],
   "source": [
    "# Create custom datasets\n",
    "train_dataset = CustomIMDBDataset(train_iter)\n",
    "test_dataset = CustomIMDBDataset(test_iter)\n",
    "    \n",
    "BATCH_SIZE = 64\n",
    "train_dataloader = DataLoader(train_dataset, batch_size=BATCH_SIZE, shuffle=True, collate_fn=collate_batch)\n",
    "test_dataloader = DataLoader(test_dataset, batch_size=BATCH_SIZE, shuffle=True, collate_fn=collate_batch)\n"
   ]
  },
  {
   "cell_type": "markdown",
   "id": "5304ad55",
   "metadata": {},
   "source": [
    "## Create RNN model"
   ]
  },
  {
   "cell_type": "code",
   "execution_count": 9,
   "id": "84fb9712",
   "metadata": {},
   "outputs": [],
   "source": [
    "class RNN(nn.Module):\n",
    "    def __init__(self, vocab_size, embed_dim, hidden_dim, output_dim):\n",
    "        super(RNN, self).__init__()\n",
    "        self.embedding = nn.Embedding(vocab_size, embed_dim)\n",
    "        self.rnn = nn.RNN(embed_dim, hidden_dim)\n",
    "        self.fc = nn.Linear(hidden_dim, output_dim)\n",
    "        self.dropout = nn.Dropout(0.5)\n",
    "        \n",
    "    def forward(self, text, text_lengths):\n",
    "        embedded = self.embedding(text)\n",
    "        packed_embedded = nn.utils.rnn.pack_padded_sequence(embedded, text_lengths.to('cpu'), batch_first = True, enforce_sorted = False)\n",
    "        packed_output, hidden = self.rnn(packed_embedded)\n",
    "        output, output_lengths = nn.utils.rnn.pad_packed_sequence(packed_output, batch_first = True)\n",
    "        hidden = self.dropout(hidden[-1, :, :])\n",
    "        return self.fc(hidden)"
   ]
  },
  {
   "cell_type": "markdown",
   "id": "0f944a03",
   "metadata": {},
   "source": [
    "# 创建模型实例"
   ]
  },
  {
   "cell_type": "code",
   "execution_count": 10,
   "id": "461e29f6",
   "metadata": {},
   "outputs": [],
   "source": [
    "INPUT_DIM = len(vocab)\n",
    "EMBEDDING_DIM = 100\n",
    "HIDDEN_DIM = 256\n",
    "OUTPUT_DIM = 1"
   ]
  },
  {
   "cell_type": "markdown",
   "id": "86210482",
   "metadata": {},
   "source": [
    "# 训练模型"
   ]
  },
  {
   "cell_type": "code",
   "execution_count": 11,
   "id": "75623d4f",
   "metadata": {},
   "outputs": [],
   "source": [
    "model = RNN(INPUT_DIM, EMBEDDING_DIM, HIDDEN_DIM, OUTPUT_DIM)\n",
    "\n",
    "# 训练模型\n",
    "optimizer = optim.SGD(model.parameters(), lr=1e-3)\n",
    "criterion = nn.BCEWithLogitsLoss()"
   ]
  },
  {
   "cell_type": "code",
   "execution_count": 12,
   "id": "ea08d4c8",
   "metadata": {},
   "outputs": [],
   "source": [
    "device = torch.device('cuda' if torch.cuda.is_available() else 'cpu')\n",
    "model = model.to(device)\n",
    "criterion = criterion.to(device)"
   ]
  },
  {
   "cell_type": "code",
   "execution_count": 13,
   "id": "4d5364c3",
   "metadata": {},
   "outputs": [],
   "source": [
    "def train(model, dataloader, optimizer, criterion):\n",
    "    model.train()\n",
    "    epoch_loss = 0\n",
    "    for labels, texts, text_lengths in dataloader:\n",
    "        labels, texts = labels.to(device), texts.to(device)\n",
    "        optimizer.zero_grad()\n",
    "        predictions = model(texts, text_lengths).squeeze(1)\n",
    "        loss = criterion(predictions, labels)\n",
    "        loss.backward()\n",
    "        optimizer.step()\n",
    "        epoch_loss += loss.item()\n",
    "    return epoch_loss / len(dataloader)\n",
    "\n",
    "def accuracy(predictions, labels):\n",
    "    # Round predictions to the closest integer (0 or 1)\n",
    "    rounded_preds = torch.round(torch.sigmoid(predictions))\n",
    "    correct = (rounded_preds == labels).float()\n",
    "    acc = correct.sum() / len(correct)\n",
    "    return acc"
   ]
  },
  {
   "cell_type": "code",
   "execution_count": 21,
   "id": "031aa6dd",
   "metadata": {},
   "outputs": [
    {
     "name": "stdout",
     "output_type": "stream",
     "text": [
      "Epoch [1/20] - Train Loss: 0.0013 - Train Accuracy: 1.0000\n",
      "Epoch [2/20] - Train Loss: 0.0013 - Train Accuracy: 1.0000\n",
      "Epoch [3/20] - Train Loss: 0.0012 - Train Accuracy: 1.0000\n",
      "Epoch [4/20] - Train Loss: 0.0011 - Train Accuracy: 1.0000\n",
      "Epoch [5/20] - Train Loss: 0.0010 - Train Accuracy: 1.0000\n",
      "Epoch [6/20] - Train Loss: 0.0010 - Train Accuracy: 1.0000\n",
      "Epoch [7/20] - Train Loss: 0.0009 - Train Accuracy: 1.0000\n",
      "Epoch [8/20] - Train Loss: 0.0009 - Train Accuracy: 1.0000\n",
      "Epoch [9/20] - Train Loss: 0.0008 - Train Accuracy: 1.0000\n",
      "Epoch [10/20] - Train Loss: 0.0008 - Train Accuracy: 1.0000\n",
      "Epoch [11/20] - Train Loss: 0.0008 - Train Accuracy: 1.0000\n",
      "Epoch [12/20] - Train Loss: 0.0007 - Train Accuracy: 1.0000\n",
      "Epoch [13/20] - Train Loss: 0.0007 - Train Accuracy: 1.0000\n",
      "Epoch [14/20] - Train Loss: 0.0007 - Train Accuracy: 1.0000\n",
      "Epoch [15/20] - Train Loss: 0.0006 - Train Accuracy: 1.0000\n",
      "Epoch [16/20] - Train Loss: 0.0006 - Train Accuracy: 1.0000\n",
      "Epoch [17/20] - Train Loss: 0.0006 - Train Accuracy: 1.0000\n",
      "Epoch [18/20] - Train Loss: 0.0006 - Train Accuracy: 1.0000\n",
      "Epoch [19/20] - Train Loss: 0.0005 - Train Accuracy: 1.0000\n",
      "Epoch [20/20] - Train Loss: 0.0005 - Train Accuracy: 1.0000\n"
     ]
    }
   ],
   "source": [
    "# 记录训练过程\n",
    "num_epochs = 20\n",
    "train_losses = []\n",
    "train_acc_list = []\n",
    "\n",
    "for epoch in range(num_epochs):\n",
    "    train_loss = train(model, train_dataloader, optimizer, criterion)\n",
    "    train_losses.append(train_loss)\n",
    "\n",
    "    # Calculate accuracy on the training set\n",
    "    model.eval()\n",
    "    with torch.no_grad():\n",
    "        correct_predictions = 0\n",
    "        total_predictions = 0\n",
    "        for labels, texts, text_lengths in train_dataloader:\n",
    "            labels, texts = labels.to(device), texts.to(device)\n",
    "            predictions = model(texts, text_lengths).squeeze(1)\n",
    "            acc = accuracy(predictions, labels)\n",
    "            correct_predictions += acc.item()\n",
    "            total_predictions += 1\n",
    "        train_accuracy = correct_predictions / total_predictions\n",
    "        train_acc_list.append(train_accuracy)\n",
    "\n",
    "    # Print training loss for the current epoch\n",
    "    print(f'Epoch [{epoch + 1}/{num_epochs}] - Train Loss: {train_loss:.4f} - Train Accuracy: {train_accuracy:.4f}')"
   ]
  },
  {
   "cell_type": "code",
   "execution_count": 22,
   "id": "c4f0cdf4",
   "metadata": {},
   "outputs": [
    {
     "data": {
      "image/png": "[encoded data removed]",
      "text/plain": [
       "<Figure size 864x360 with 2 Axes>"
      ]
     },
     "metadata": {
      "needs_background": "light"
     },
     "output_type": "display_data"
    }
   ],
   "source": [
    "# Plot both training loss and accuracy over time\n",
    "fig, (ax1, ax2) = plt.subplots(1, 2, figsize=(12, 5))  # Create a figure with two subplots (1 row, 2 columns)\n",
    "\n",
    "# Plot training loss on the first subplot (ax1)\n",
    "ax1.plot(train_losses, label='Training Loss')\n",
    "ax1.set_xlabel('Epoch')\n",
    "ax1.set_ylabel('Loss')\n",
    "ax1.set_title('Training Loss Over Time')\n",
    "ax1.legend()\n",
    "\n",
    "# Plot training accuracy on the second subplot (ax2)\n",
    "ax2.plot(train_acc_list, label='Training Accuracy')\n",
    "ax2.set_xlabel('Epoch')\n",
    "ax2.set_ylabel('Accuracy')\n",
    "ax2.set_title('Training Accuracy Over Time')\n",
    "ax2.legend()\n",
    "\n",
    "plt.tight_layout()  # Adjust subplots for better layout"
   ]
  }
 ],
 "metadata": {
  "kernelspec": {
   "display_name": "Python 3 (ipykernel)",
   "language": "python",
   "name": "python3"
  },
  "language_info": {
   "codemirror_mode": {
    "name": "ipython",
    "version": 3
   },
   "file_extension": ".py",
   "mimetype": "text/x-python",
   "name": "python",
   "nbconvert_exporter": "python",
   "pygments_lexer": "ipython3",
   "version": "3.9.7"
  }
 },
 "nbformat": 4,
 "nbformat_minor": 5
}
