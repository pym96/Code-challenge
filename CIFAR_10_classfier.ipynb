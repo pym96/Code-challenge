{
 "cells": [
  {
   "cell_type": "code",
   "execution_count": 4,
   "id": "b981d2a6",
   "metadata": {},
   "outputs": [],
   "source": [
    "import torch\n",
    "import torchvision\n",
    "import torchvision.transforms as transforms\n",
    "import torch.nn as nn\n",
    "import torch.optim as optim\n",
    "import torch.nn.functional as F"
   ]
  },
  {
   "cell_type": "code",
   "execution_count": 5,
   "id": "66d9ee70",
   "metadata": {},
   "outputs": [],
   "source": [
    "# 数据预处理：将图像转换为PyTorch张量并标准化\n",
    "transform = transforms.Compose(\n",
    "    [transforms.ToTensor(),\n",
    "     transforms.Normalize((0.5, 0.5, 0.5), (0.5, 0.5, 0.5))])"
   ]
  },
  {
   "cell_type": "code",
   "execution_count": 6,
   "id": "28d3a31a",
   "metadata": {},
   "outputs": [
    {
     "name": "stdout",
     "output_type": "stream",
     "text": [
      "Files already downloaded and verified\n",
      "Files already downloaded and verified\n"
     ]
    }
   ],
   "source": [
    "# 加载训练集和测试集\n",
    "trainset = torchvision.datasets.CIFAR10(root='./data', train=True,\n",
    "                                        download=True, transform=transform)\n",
    "trainloader = torch.utils.data.DataLoader(trainset, batch_size=4,\n",
    "                                          shuffle=True, num_workers=2)\n",
    "\n",
    "testset = torchvision.datasets.CIFAR10(root='./data', train=False,\n",
    "                                       download=True, transform=transform)\n",
    "testloader = torch.utils.data.DataLoader(testset, batch_size=4,\n",
    "                                         shuffle=False, num_workers=2)"
   ]
  },
  {
   "cell_type": "code",
   "execution_count": 7,
   "id": "a8069736",
   "metadata": {},
   "outputs": [],
   "source": [
    "classes = ('plane', 'car', 'bird', 'cat', 'deer', 'dog', 'frog', 'horse', 'ship', 'truck')"
   ]
  },
  {
   "cell_type": "code",
   "execution_count": 11,
   "id": "c90de80a",
   "metadata": {},
   "outputs": [],
   "source": [
    "# 定义一个简单的卷积神经网络\n",
    "class Net(nn.Module):\n",
    "    def __init__(self):\n",
    "        super(Net, self).__init__()\n",
    "        self.conv1 = nn.Conv2d(3, 6, 5)\n",
    "        self.pool = nn.MaxPool2d(2, 2)\n",
    "        self.conv2 = nn.Conv2d(6, 16, 5)\n",
    "        self.fc1 = nn.Linear(16 * 5 * 5, 120)\n",
    "        self.fc2 = nn.Linear(120, 84)\n",
    "        self.fc3 = nn.Linear(84, 10)\n",
    "\n",
    "    def forward(self, x):\n",
    "        x = self.pool(F.relu(self.conv1(x)))\n",
    "        x = self.pool(F.relu(self.conv2(x)))\n",
    "        x = x.view(-1, 16 * 5 * 5)\n",
    "        x = F.relu(self.fc1(x))\n",
    "        x = F.relu(self.fc2(x))\n",
    "        x = self.fc3(x)\n",
    "        return x"
   ]
  },
  {
   "cell_type": "code",
   "execution_count": 12,
   "id": "4b22ebd3",
   "metadata": {},
   "outputs": [
    {
     "name": "stdout",
     "output_type": "stream",
     "text": [
      "Using device: cuda:0\n"
     ]
    }
   ],
   "source": [
    "# 检查GPU是否可用，如果可用则使用，否则使用CPU\n",
    "device = torch.device(\"cuda:0\" if torch.cuda.is_available() else \"cpu\")\n",
    "print(f\"Using device: {device}\")"
   ]
  },
  {
   "cell_type": "code",
   "execution_count": 15,
   "id": "b51dad5b",
   "metadata": {},
   "outputs": [
    {
     "name": "stdout",
     "output_type": "stream",
     "text": [
      "[1, 2000] loss: 2.183\n",
      "[1, 4000] loss: 1.846\n",
      "[1, 6000] loss: 1.638\n",
      "[1, 8000] loss: 1.585\n",
      "[1, 10000] loss: 1.532\n",
      "[1, 12000] loss: 1.484\n",
      "[2, 2000] loss: 1.432\n",
      "[2, 4000] loss: 1.388\n",
      "[2, 6000] loss: 1.384\n",
      "[2, 8000] loss: 1.336\n",
      "[2, 10000] loss: 1.329\n",
      "[2, 12000] loss: 1.291\n",
      "[3, 2000] loss: 1.252\n",
      "[3, 4000] loss: 1.239\n",
      "[3, 6000] loss: 1.207\n",
      "[3, 8000] loss: 1.212\n",
      "[3, 10000] loss: 1.201\n",
      "[3, 12000] loss: 1.203\n",
      "[4, 2000] loss: 1.117\n",
      "[4, 4000] loss: 1.131\n",
      "[4, 6000] loss: 1.146\n",
      "[4, 8000] loss: 1.141\n",
      "[4, 10000] loss: 1.159\n",
      "[4, 12000] loss: 1.134\n",
      "[5, 2000] loss: 1.063\n",
      "[5, 4000] loss: 1.069\n",
      "[5, 6000] loss: 1.052\n",
      "[5, 8000] loss: 1.070\n",
      "[5, 10000] loss: 1.067\n",
      "[5, 12000] loss: 1.070\n",
      "[6, 2000] loss: 0.987\n",
      "[6, 4000] loss: 1.010\n",
      "[6, 6000] loss: 1.020\n",
      "[6, 8000] loss: 1.018\n",
      "[6, 10000] loss: 1.018\n",
      "[6, 12000] loss: 1.016\n",
      "[7, 2000] loss: 0.924\n",
      "[7, 4000] loss: 0.953\n",
      "[7, 6000] loss: 0.959\n",
      "[7, 8000] loss: 0.977\n",
      "[7, 10000] loss: 1.006\n",
      "[7, 12000] loss: 0.964\n",
      "[8, 2000] loss: 0.873\n",
      "[8, 4000] loss: 0.902\n",
      "[8, 6000] loss: 0.914\n",
      "[8, 8000] loss: 0.945\n",
      "[8, 10000] loss: 0.952\n",
      "[8, 12000] loss: 0.949\n",
      "[9, 2000] loss: 0.843\n",
      "[9, 4000] loss: 0.869\n",
      "[9, 6000] loss: 0.873\n",
      "[9, 8000] loss: 0.889\n",
      "[9, 10000] loss: 0.931\n",
      "[9, 12000] loss: 0.925\n",
      "[10, 2000] loss: 0.807\n",
      "[10, 4000] loss: 0.834\n",
      "[10, 6000] loss: 0.877\n",
      "[10, 8000] loss: 0.847\n",
      "[10, 10000] loss: 0.869\n",
      "[10, 12000] loss: 0.901\n",
      "[11, 2000] loss: 0.797\n",
      "[11, 4000] loss: 0.819\n",
      "[11, 6000] loss: 0.812\n",
      "[11, 8000] loss: 0.861\n",
      "[11, 10000] loss: 0.829\n",
      "[11, 12000] loss: 0.860\n",
      "[12, 2000] loss: 0.766\n",
      "[12, 4000] loss: 0.772\n",
      "[12, 6000] loss: 0.823\n",
      "[12, 8000] loss: 0.807\n",
      "[12, 10000] loss: 0.827\n",
      "[12, 12000] loss: 0.842\n",
      "[13, 2000] loss: 0.736\n",
      "[13, 4000] loss: 0.760\n",
      "[13, 6000] loss: 0.782\n",
      "[13, 8000] loss: 0.802\n",
      "[13, 10000] loss: 0.816\n",
      "[13, 12000] loss: 0.815\n",
      "[14, 2000] loss: 0.711\n",
      "[14, 4000] loss: 0.751\n",
      "[14, 6000] loss: 0.758\n",
      "[14, 8000] loss: 0.787\n",
      "[14, 10000] loss: 0.802\n",
      "[14, 12000] loss: 0.823\n",
      "[15, 2000] loss: 0.687\n",
      "[15, 4000] loss: 0.733\n",
      "[15, 6000] loss: 0.735\n",
      "[15, 8000] loss: 0.778\n",
      "[15, 10000] loss: 0.764\n",
      "[15, 12000] loss: 0.788\n",
      "[16, 2000] loss: 0.656\n",
      "[16, 4000] loss: 0.717\n",
      "[16, 6000] loss: 0.755\n",
      "[16, 8000] loss: 0.751\n",
      "[16, 10000] loss: 0.738\n",
      "[16, 12000] loss: 0.766\n",
      "[17, 2000] loss: 0.654\n",
      "[17, 4000] loss: 0.678\n",
      "[17, 6000] loss: 0.750\n",
      "[17, 8000] loss: 0.732\n",
      "[17, 10000] loss: 0.746\n",
      "[17, 12000] loss: 0.766\n",
      "[18, 2000] loss: 0.632\n",
      "[18, 4000] loss: 0.678\n",
      "[18, 6000] loss: 0.712\n",
      "[18, 8000] loss: 0.738\n",
      "[18, 10000] loss: 0.733\n",
      "[18, 12000] loss: 0.776\n",
      "[19, 2000] loss: 0.640\n",
      "[19, 4000] loss: 0.645\n",
      "[19, 6000] loss: 0.708\n",
      "[19, 8000] loss: 0.719\n",
      "[19, 10000] loss: 0.727\n",
      "[19, 12000] loss: 0.742\n",
      "[20, 2000] loss: 0.641\n",
      "[20, 4000] loss: 0.646\n",
      "[20, 6000] loss: 0.698\n",
      "[20, 8000] loss: 0.705\n",
      "[20, 10000] loss: 0.718\n",
      "[20, 12000] loss: 0.746\n",
      "Finished Training\n"
     ]
    }
   ],
   "source": [
    "net = Net().to(device)\n",
    "\n",
    "# 定义损失函数和优化器\n",
    "criterion = nn.CrossEntropyLoss()\n",
    "optimizer = optim.SGD(net.parameters(), lr=0.001, momentum=0.9)\n",
    "\n",
    "# 训练网络\n",
    "for epoch in range(20): \n",
    "    running_loss = 0.0\n",
    "    for i, data in enumerate(trainloader, 0):\n",
    "        inputs, labels = data\n",
    "        \n",
    "        inputs, labels = inputs.to(device), labels.to(device)  # 将数据移到GPU上\n",
    "\n",
    "\n",
    "        optimizer.zero_grad()\n",
    "\n",
    "        outputs = net(inputs)\n",
    "        loss = criterion(outputs, labels)\n",
    "        loss.backward()\n",
    "        optimizer.step()\n",
    "\n",
    "        running_loss += loss.item()\n",
    "        if i % 2000 == 1999:\n",
    "            print(f'[{epoch + 1}, {i + 1}] loss: {running_loss / 2000:.3f}')\n",
    "            running_loss = 0.0\n",
    "\n",
    "print('Finished Training')"
   ]
  },
  {
   "cell_type": "code",
   "execution_count": 19,
   "id": "6d3ad884",
   "metadata": {},
   "outputs": [
    {
     "name": "stdout",
     "output_type": "stream",
     "text": [
      "Accuracy of the network on the 10000 test images: 61%\n"
     ]
    }
   ],
   "source": [
    "# 测试网络性能\n",
    "correct = 0\n",
    "total = 0\n",
    "with torch.no_grad():\n",
    "    for data in testloader:\n",
    "        images, labels = data\n",
    "        \n",
    "        images = images.to(device)\n",
    "        labels = labels.to(device)\n",
    "        outputs = net(images)\n",
    "        _, predicted = torch.max(outputs.data, 1)\n",
    "        total += labels.size(0)\n",
    "        correct += (predicted == labels).sum().item()\n",
    "\n",
    "print(f'Accuracy of the network on the 10000 test images: {100 * correct // total}%')"
   ]
  },
  {
   "cell_type": "code",
   "execution_count": null,
   "id": "9f93f774",
   "metadata": {},
   "outputs": [],
   "source": []
  }
 ],
 "metadata": {
  "kernelspec": {
   "display_name": "Python 3 (ipykernel)",
   "language": "python",
   "name": "python3"
  },
  "language_info": {
   "codemirror_mode": {
    "name": "ipython",
    "version": 3
   },
   "file_extension": ".py",
   "mimetype": "text/x-python",
   "name": "python",
   "nbconvert_exporter": "python",
   "pygments_lexer": "ipython3",
   "version": "3.9.7"
  }
 },
 "nbformat": 4,
 "nbformat_minor": 5
}
